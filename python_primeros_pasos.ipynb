{
 "cells": [
  {
   "cell_type": "markdown",
   "metadata": {},
   "source": [
    "# Primeros pasos en Python"
   ]
  },
  {
   "cell_type": "markdown",
   "metadata": {},
   "source": [
    "### Instrucciones y pasos a seguir para poder realizar la primer inmersión en Python:"
   ]
  },
  {
   "cell_type": "markdown",
   "metadata": {},
   "source": [
    "En este jupyter notebook se abordan las asignaciones para los primeros pasos en Python. Se observarán las funciones básicas, familiarización con el sintaxis y práctica necesaria para poder continuar con las asignaciones de futuras clases. Aprender esta herramienta será util para desarrollar distintas aplicaciones de data science y analisis de datos. Te sugerimos fervientemente que sigas el objetivo de este código al ejecutarlo por completo (o hasta donde llegues)."
   ]
  },
  {
   "cell_type": "markdown",
   "metadata": {},
   "source": [
    "**Objetivo de este codigo:** lo importante es poder ejecutarlo, tratar de leer el codigo e interpretar la sintaxis. Observar detalladamente el paso a paso para ganar nociones de como se escribe codigo en Python. Fijense que dejamos muchas notas para que puedas seguir todas las acciones realizadas :). Asuman esta etapa como \"aprender un idioma nuevo\". Inicialmente sera un poco confuso, aunque a medida que pase el tiempo lo adoptaran y se sentiran mas comodos. "
   ]
  },
  {
   "cell_type": "markdown",
   "metadata": {},
   "source": [
    "**Como ejecutar este archivo:** La manera en que se ejecuta cada celda de Jupyter es mediante \"Shift + Enter\" o con el boton de \"$\\blacktriangleright$ Run\" que se encuentra en la barra superior. Una vez ejecutado todo el codigo, sientanse libres de modificar algunas variables a su gusto para ir obteniendo distintos resultados. Por ejemplo, crear matrices o vectores de distintas dimensiones, etc."
   ]
  },
  {
   "cell_type": "markdown",
   "metadata": {},
   "source": [
    "# Primeros pasos\n",
    "**Imprimir texto en pantalla (hola mundo)**"
   ]
  },
  {
   "cell_type": "code",
   "execution_count": null,
   "metadata": {},
   "outputs": [],
   "source": [
    "print(\"Hola, Soy Martín y estoy probando un script para el curso de ClusterAI 2021 en UTN FRBA.\")"
   ]
  },
  {
   "cell_type": "markdown",
   "metadata": {},
   "source": [
    "**Operaciones básicas con enteros**\n",
    "Antes de utilizar cualquier librería, Python ya permite dentro de su sintaxis realizar algunas operaciones matematias con integers (enteros) o floats (reales)."
   ]
  },
  {
   "cell_type": "code",
   "execution_count": null,
   "metadata": {},
   "outputs": [],
   "source": [
    "(5+3)*10"
   ]
  },
  {
   "cell_type": "markdown",
   "metadata": {},
   "source": [
    "A la operación anterior podría guardarla en una variable (llamada \"cuenta\"), para que quede en memoria y asi poder acceder a su contenido en el futuro."
   ]
  },
  {
   "cell_type": "code",
   "execution_count": null,
   "metadata": {},
   "outputs": [],
   "source": [
    "# guardamos la operacion en la variable \"cuenta\"\n",
    "cuenta = (5+3)*10"
   ]
  },
  {
   "cell_type": "code",
   "execution_count": null,
   "metadata": {},
   "outputs": [],
   "source": [
    "# accedemos al interior de la variable \"cuenta\" para asegurarnos que se guardo bien los datos del resultado\n",
    "cuenta"
   ]
  },
  {
   "cell_type": "code",
   "execution_count": null,
   "metadata": {},
   "outputs": [],
   "source": [
    "# el comando \"type\" nos permite poder saber que tipo de formato de dato esta guardado en la variable en cuestion\n",
    "type(cuenta)"
   ]
  },
  {
   "cell_type": "markdown",
   "metadata": {},
   "source": [
    "**Listas y Diccionarios:** Las *listas* son uno de los contenedores de informacion mas basico que podemos encontrar en Python. En ellas se puede guardar, acceder y modificar informacion de manera muy variada y dinamica. Los *diccionarios* encambio son mas estructurados ya que la informacion se encuentra asociada en pares de elementos llamados *keys: values*."
   ]
  },
  {
   "cell_type": "code",
   "execution_count": null,
   "metadata": {},
   "outputs": [],
   "source": [
    "# Las listas se definen con los simbolos \"[]\"\n",
    "lista1 = [1,2,3,4,5]"
   ]
  },
  {
   "cell_type": "markdown",
   "metadata": {},
   "source": [
    "En Python, para acceder a los elementos de la listas utilizamos sus indices, ya sea hacia adelante o hacia atras.\n",
    "E incluso podemos acceder varios elementos en simultaneo utilizando *slices* o *cortes* utilizando el simbolo *:*.\n",
    "\n",
    "**ATENCION:** Los slices en Python incluyen el primer elemento, pero NO el ultimo."
   ]
  },
  {
   "cell_type": "code",
   "execution_count": null,
   "metadata": {},
   "outputs": [],
   "source": [
    "print('1° elemento: ', lista1[0])\n",
    "print('Ultimo elemento: ', lista1[4])\n",
    "# Podemos acceder a la informacion en la lista de atras hacia adelante utilizando indices negativos.\n",
    "print('Este tambien es el ultimo elemento: ',lista1[-1])"
   ]
  },
  {
   "cell_type": "code",
   "execution_count": null,
   "metadata": {},
   "outputs": [],
   "source": [
    "# Ejemplo de slice\n",
    "print('Estos son los primeros 3 elementos de la lista1: ',lista1[0:3])"
   ]
  },
  {
   "cell_type": "code",
   "execution_count": null,
   "metadata": {
    "scrolled": true
   },
   "outputs": [],
   "source": [
    "# Las listas pueden ser extendidas utilizando el metodo .append() si solo agregamos un elemento, o extend() si agregamos varios.\n",
    "lista1.append(6) #Solo agregamos el 6\n",
    "print('Lista1 luego de agregar el 6: ',lista1)\n",
    "lista1.extend([7,8,9,10]) # Extendemos la lista pasandole otra lista.\n",
    "print('Lista1 luego de extenderla: ',lista1)"
   ]
  },
  {
   "cell_type": "code",
   "execution_count": null,
   "metadata": {
    "scrolled": true
   },
   "outputs": [],
   "source": [
    "# Para borrar o modificar elementos lo podemos hacer de la siguiente menera:\n",
    "\n",
    "lista1[0] = 100 # Modificamos el primer elemento por el valor de la derecha.\n",
    "print('Lista1 luego de modificar el primer elemento: ',lista1)\n",
    "del lista1[3] # eliminamos el 4to elemento\n",
    "print('Lista1 luego eliminar el 4° elemento:',lista1)\n",
    "del lista1[-3:] # Eliminamos los ultimos 3 elementos\n",
    "print('Lista1 luego los ultimos 3° elementos: ',lista1)\n"
   ]
  },
  {
   "cell_type": "markdown",
   "metadata": {},
   "source": [
    "Los *diccionarios* los creamos con los simbolos ' { } ' y asignando pares *' key ': values* de la siguiente manera\n"
   ]
  },
  {
   "cell_type": "code",
   "execution_count": null,
   "metadata": {},
   "outputs": [],
   "source": [
    "# La variable dicc1 es un diccionario que contiene dos \"keys\", cada una con una lista.\n",
    "dicc1 = {\n",
    "    'key1': [1,2,3,4,5],\n",
    "    'key2': [6,7,8,9,10]}"
   ]
  },
  {
   "cell_type": "code",
   "execution_count": null,
   "metadata": {},
   "outputs": [],
   "source": [
    "dicc1"
   ]
  },
  {
   "cell_type": "code",
   "execution_count": null,
   "metadata": {},
   "outputs": [],
   "source": [
    "# Para acceder al diccinario usamos las keys de la siguiente manera\n",
    "dicc1['key2']\n",
    "# Y se verifica que el elemento es una lista, y podemos gestionar los datos de la manera que vimos previamente.\n",
    "print('La clase de datos que hay en la variable dicc1[\"key2\"] es: ',type(dicc1['key2']))"
   ]
  },
  {
   "cell_type": "code",
   "execution_count": null,
   "metadata": {},
   "outputs": [],
   "source": [
    "# Agregamos a variable lista1 al diccionario usando la key 'x':\n",
    "dicc1['x'] = lista1\n",
    "dicc1"
   ]
  },
  {
   "cell_type": "code",
   "execution_count": null,
   "metadata": {},
   "outputs": [],
   "source": [
    "# Se debe tener cuidado si asignamos un elemento a una key previamente utilizada,\n",
    "# porque se eliminaran de la memoria los datos que estaban previamente.\n",
    "dicc1['key1'] = ['soy una lista con una unica cadena de string']\n",
    "dicc1"
   ]
  },
  {
   "cell_type": "markdown",
   "metadata": {},
   "source": [
    "**Documentacion de Python**: \n",
    "\n",
    "Para mas informacion sobre diccionarios y listas se recomiendo consultar la [documentacion oficial de Python](https://docs.python.org/3/tutorial/datastructures.html)"
   ]
  },
  {
   "cell_type": "markdown",
   "metadata": {},
   "source": [
    "## Librería Numpy"
   ]
  },
  {
   "cell_type": "markdown",
   "metadata": {},
   "source": [
    "**Importar librerias:**\n",
    "Python posee ya muchas librerías con funciones específicas según la tarea que querramos realizar. Existen librerías de cálculo, de visulización, de estadística, procesamiento de señales, de algebra lineal y de redes neuronales artificiales (entre muchas mas). Nuestro primer paso será importar **Numpy**, una importante librería que nos permitirá realizar operaciones numéricas con matrices, vectores y escalares."
   ]
  },
  {
   "cell_type": "code",
   "execution_count": null,
   "metadata": {},
   "outputs": [],
   "source": [
    "# importamos la librería Numpy\n",
    "import numpy as np"
   ]
  },
  {
   "cell_type": "markdown",
   "metadata": {},
   "source": [
    "**Primeras operaciones con Numpy**:\n",
    "Con \"np. + comando\" de numpy podremos realizar muchas operaciones. Como crear una matriz de 2x2 de ceros."
   ]
  },
  {
   "cell_type": "code",
   "execution_count": null,
   "metadata": {},
   "outputs": [],
   "source": [
    "# creamos la matriz de 2x2 llena de ceros con el comando np.zeros()\n",
    "nula = np.zeros((2,2))"
   ]
  },
  {
   "cell_type": "code",
   "execution_count": null,
   "metadata": {},
   "outputs": [],
   "source": [
    "# La visualizamos en pantalla\n",
    "nula"
   ]
  },
  {
   "cell_type": "code",
   "execution_count": null,
   "metadata": {},
   "outputs": [],
   "source": [
    "# con type nos fijamos que tipo de variable es \"nula\"\n",
    "# Python permite muchos tipos de variables, en este caso es un numpy array\n",
    "type(nula)"
   ]
  },
  {
   "cell_type": "code",
   "execution_count": null,
   "metadata": {},
   "outputs": [],
   "source": [
    "# con np.shape() podremos saber las dimensiones de la variable en cuestion\n",
    "np.shape(nula)"
   ]
  },
  {
   "cell_type": "markdown",
   "metadata": {},
   "source": [
    "Las posiciones en Python comienzan en 0. Entonces si tenemos un elemento de 4 posiciones, la primera sera la posicion 0 y la ultima posicion sera la 3. Cuando tenemos matrices (arrays)"
   ]
  },
  {
   "cell_type": "code",
   "execution_count": null,
   "metadata": {},
   "outputs": [],
   "source": [
    "# si quisieramos acceder al elemento 0,0 de nula \n",
    "nula[0,0]"
   ]
  },
  {
   "cell_type": "markdown",
   "metadata": {},
   "source": [
    "Una vez declarada en Python, podemos modificar alguno de los elementos de la matriz (numpy array) nula. "
   ]
  },
  {
   "cell_type": "code",
   "execution_count": null,
   "metadata": {},
   "outputs": [],
   "source": [
    "# por ejemplo el de la posicion 1,0\n",
    "nula[1,0] = 4\n",
    "\n",
    "# y tambien modificamos la posicion 0,1\n",
    "nula[0,1] = 10"
   ]
  },
  {
   "cell_type": "code",
   "execution_count": null,
   "metadata": {},
   "outputs": [],
   "source": [
    "# imprimimos la matriz nula en pantalla para observar la modificacion realizada\n",
    "nula"
   ]
  },
  {
   "cell_type": "markdown",
   "metadata": {},
   "source": [
    "podriamos realizar operaciones logicas y obtener resultados \"booleanos\" (True or False). Por ejemplo, preguntamos que elementos son mayores a cero."
   ]
  },
  {
   "cell_type": "code",
   "execution_count": null,
   "metadata": {},
   "outputs": [],
   "source": [
    "nula > 0"
   ]
  },
  {
   "cell_type": "markdown",
   "metadata": {},
   "source": [
    "Calculamos raiz cuadrada de todos los elementos de la matriz nula con el comando np.sqrt(). SQRT significa square root en ingles."
   ]
  },
  {
   "cell_type": "code",
   "execution_count": null,
   "metadata": {},
   "outputs": [],
   "source": [
    "# podriamos calcular la raiz cuadrada de todos los elementos de nula con \"np.sqrt()\"\n",
    "raiz_cuad = np.sqrt(nula)\n",
    "raiz_cuad"
   ]
  },
  {
   "cell_type": "markdown",
   "metadata": {},
   "source": [
    "con el comando de Python de doble * se realiza el cuadrado del elemento en cuestion"
   ]
  },
  {
   "cell_type": "code",
   "execution_count": null,
   "metadata": {},
   "outputs": [],
   "source": [
    "# observamos que si a raiz_cuad la afectamos por el cuadrado obtenemos nuevamente nula\n",
    "raiz_cuad**2"
   ]
  },
  {
   "cell_type": "markdown",
   "metadata": {},
   "source": [
    "Numpy tambien nos permite crear matrices de la dimension que querramos con numeros aleatorios mediante el comando \"np.random.rand()\"."
   ]
  },
  {
   "cell_type": "code",
   "execution_count": null,
   "metadata": {},
   "outputs": [],
   "source": [
    "# creamos un array de 3x3 con todos sus elementos completados nros aleatorios de una distribución uniforme \n",
    "array_uniform = np.random.rand(3,3)\n",
    "array_uniform"
   ]
  },
  {
   "cell_type": "markdown",
   "metadata": {},
   "source": [
    "Podemos tambien crear vectores, solamente especificando una sola dimension."
   ]
  },
  {
   "cell_type": "code",
   "execution_count": null,
   "metadata": {},
   "outputs": [],
   "source": [
    "# generamos un vector de 10 posiciones completados desde nros. aleatorios de una dist. uniforme\n",
    "vector_uniform = np.random.rand(10)\n",
    "vector_uniform"
   ]
  },
  {
   "cell_type": "markdown",
   "metadata": {},
   "source": [
    "Trasponer un numpy array con \".T\" al final"
   ]
  },
  {
   "cell_type": "code",
   "execution_count": null,
   "metadata": {},
   "outputs": [],
   "source": [
    "# vamos a transponer la matriz array_uniform\n",
    "array_uniform_t = array_uniform.T\n",
    "array_uniform_t"
   ]
  },
  {
   "cell_type": "markdown",
   "metadata": {},
   "source": [
    "Calcular la inversa de una matriz (en formato numpy array) con el comando np.linalg.inv()"
   ]
  },
  {
   "cell_type": "code",
   "execution_count": null,
   "metadata": {},
   "outputs": [],
   "source": [
    "# podemos tambien calcularle la inversa a la matriz array_uniform\n",
    "array_uniform_inv = np.linalg.inv(array_uniform)\n",
    "array_uniform_inv"
   ]
  },
  {
   "cell_type": "markdown",
   "metadata": {},
   "source": [
    "Calcular el producto de dos matrices con np.dot"
   ]
  },
  {
   "cell_type": "code",
   "execution_count": null,
   "metadata": {},
   "outputs": [],
   "source": [
    "# podemos calcular el producto punto (dot product) entre array_uniform y array_uniform_inv\n",
    "array_uniform_dot = np.dot(array_uniform, array_uniform_inv)\n",
    "array_uniform_dot"
   ]
  },
  {
   "cell_type": "markdown",
   "metadata": {},
   "source": [
    "Crear una matriz con valores determinados por el usuario"
   ]
  },
  {
   "cell_type": "code",
   "execution_count": null,
   "metadata": {},
   "outputs": [],
   "source": [
    "# tambien podriamos crear una nueva matriz con datos ingresados \n",
    "a=np.array([ [1  ,-4],[12 , 3]])\n",
    "a"
   ]
  },
  {
   "cell_type": "markdown",
   "metadata": {},
   "source": [
    "## Distribuciones de probabilidad con numpy"
   ]
  },
  {
   "cell_type": "markdown",
   "metadata": {},
   "source": [
    "Generamos un vector cuyas posiciones sean numeros aleatorios provenientes de una distribucion normal con media y desvio standard determinado."
   ]
  },
  {
   "cell_type": "code",
   "execution_count": null,
   "metadata": {},
   "outputs": [],
   "source": [
    "# declaramos las variables numericas \"mu\" y \"sigma\"\n",
    "mu = 0\n",
    "sigma = 0.1 \n",
    "# con las variables declaradas generamos un vector de 1000 posiciones\n",
    "# cada posicion es un numero aleatorio extraido de una distribucion normal\n",
    "normal_sample = np.random.normal(mu, sigma, 1000)"
   ]
  },
  {
   "cell_type": "code",
   "execution_count": null,
   "metadata": {},
   "outputs": [],
   "source": [
    "# si quisieramos ver las dimensiones del vector usamos el comando np.shape\n",
    "np.shape(normal_sample)"
   ]
  },
  {
   "cell_type": "code",
   "execution_count": null,
   "metadata": {},
   "outputs": [],
   "source": [
    "# si quisieramos saber que tipo de variable es \"normal_sample\" usamos el comando type\n",
    "type(normal_sample)"
   ]
  },
  {
   "cell_type": "code",
   "execution_count": null,
   "metadata": {},
   "outputs": [],
   "source": [
    "# si quisieramos saber el valor de la posicion 50 del vector \"normal_sample\"\n",
    "normal_sample[50]"
   ]
  },
  {
   "cell_type": "code",
   "execution_count": null,
   "metadata": {},
   "outputs": [],
   "source": [
    "# podemos redondear el valor obtenido en la celda anterior con \"np.round()\"\n",
    "# le pedimos 4 decimales\n",
    "np.round(normal_sample[50],4)"
   ]
  },
  {
   "cell_type": "code",
   "execution_count": null,
   "metadata": {},
   "outputs": [],
   "source": [
    "# imprimimos en pantalla el vector correspondiente\n",
    "normal_sample"
   ]
  },
  {
   "cell_type": "markdown",
   "metadata": {},
   "source": [
    "## Visualizaciones con librerías Matplotlib y Seaborn\n",
    "Ambas son para realizar visualizaciones. Existen muchas formas de visualizar datos estructurados en un vector o matriz. Los mas comunes son los histogramas, los mapas de calor, etc."
   ]
  },
  {
   "cell_type": "code",
   "execution_count": null,
   "metadata": {},
   "outputs": [],
   "source": [
    "# importamos las librerias que nos serviran para visualizar\n",
    "import matplotlib.pyplot as plt\n",
    "import seaborn as sns"
   ]
  },
  {
   "cell_type": "markdown",
   "metadata": {},
   "source": [
    "Con \"sns.distplot()\" seaborn nos permite poder realizar un histograma y una aproximacion a la distribución de los datos en cuestion. En este caso realizaremos el distplot con el vector \"normal_sample\"."
   ]
  },
  {
   "cell_type": "code",
   "execution_count": null,
   "metadata": {},
   "outputs": [],
   "source": [
    "# generamos el distplot\n",
    "sns.distplot(normal_sample)\n",
    "plt.title(\"histograma del vector 'normal_sample' \")\n",
    "plt.xlabel(\"valores de la variable aleatoria muestreada\")\n",
    "plt.ylabel(\"densidad de cada valor muestreado\")\n",
    "plt.show()"
   ]
  },
  {
   "cell_type": "markdown",
   "metadata": {},
   "source": [
    "Creamos otro vector proveniente de una normal con distinta media y desvio standard"
   ]
  },
  {
   "cell_type": "code",
   "execution_count": null,
   "metadata": {},
   "outputs": [],
   "source": [
    "# si generamos otro vector \"normal_sample_2\" con otra media y otro desvio standard\n",
    "mu_2 = 0.5\n",
    "sigma_2 = 0.2\n",
    "# con las variables declaradas generamos un vector de 1000 posiciones\n",
    "# cada posicion es un numero aleatorio extraido de una distribucion normal\n",
    "normal_sample_2 = np.random.normal(mu_2, sigma_2, 1000)"
   ]
  },
  {
   "cell_type": "code",
   "execution_count": null,
   "metadata": {
    "scrolled": true
   },
   "outputs": [],
   "source": [
    "# generamos el distplot\n",
    "sns.distplot(normal_sample_2)\n",
    "plt.title(\"histograma del vector 'normal_sample_2' \")\n",
    "plt.xlabel(\"valores de la variable aleatoria muestreada\")\n",
    "plt.ylabel(\"densidad de cada valor muestreado\")\n",
    "plt.show()"
   ]
  },
  {
   "cell_type": "markdown",
   "metadata": {},
   "source": [
    "Podriamos realizar en un mismo distplot la visualizacion de la densidad de los 2 vectores en simultáneo"
   ]
  },
  {
   "cell_type": "code",
   "execution_count": null,
   "metadata": {},
   "outputs": [],
   "source": [
    "# generamos el distplot, en una misma celda de codigo uno debajo del otro\n",
    "# plt.show() imprime toda visualizacion que se haya acumulado en esa celda de codigo \n",
    "sns.distplot(normal_sample,label = \"normal_sample\")\n",
    "sns.distplot(normal_sample_2, label = \"normal_sample2\")\n",
    "plt.title(\"histograma de los dos vectores generados \")\n",
    "plt.xlabel(\"valores de la variable aleatoria muestreada\")\n",
    "plt.ylabel(\"densidad de cada valor muestreado\")\n",
    "plt.legend()\n",
    "plt.show()"
   ]
  },
  {
   "cell_type": "markdown",
   "metadata": {},
   "source": [
    "**Scatter plot** \n",
    "Si consideramos ambos vectores como coordenadas y cada posicion una muestra (un punto) entonces tenemos 1000 muestras cada una caracterizada por 2 valores (o dimensiones). Dicho esto, podemos entonces visualizar las 1000 muestras caracterizadas por los 2 vectores provenientes cada uno de una distribucion normal con distintos parametros. El scatter plot visualiza nubes de puntos. Seaborn tiene una función para realizar scatter plots."
   ]
  },
  {
   "cell_type": "code",
   "execution_count": null,
   "metadata": {},
   "outputs": [],
   "source": [
    "# utilizamos cada vector como una dimension, uno para el eje x y otro para el eje y.\n",
    "sns.scatterplot(x= normal_sample, y= normal_sample_2)\n",
    "plt.title(\"Ejemplo de scatterplot con seaborn\")\n",
    "plt.xlabel(\"valores de normal_sample\")\n",
    "plt.ylabel(\"valores de normal_sample_2\")\n",
    "plt.show()"
   ]
  },
  {
   "cell_type": "markdown",
   "metadata": {
    "collapsed": true
   },
   "source": [
    "Matplotlib es otra libreria que tambien tiene funciones similares, como scatter plot"
   ]
  },
  {
   "cell_type": "code",
   "execution_count": null,
   "metadata": {},
   "outputs": [],
   "source": [
    "# con el comando plt.scatter() ingresamos los 2 vectores para visualizar las 1000 muestras.\n",
    "# el parametro \"alpha\" hace traslucidas las muestras que se solapan una encima de otra.\n",
    "plt.scatter(normal_sample, normal_sample_2, alpha = 0.5)\n",
    "plt.title(\"Ejemplo de scatterplot con matplotlib\")\n",
    "plt.xlabel(\"valores de normal_sample\")\n",
    "plt.ylabel(\"valores de normal_sample_2\")\n",
    "plt.show()"
   ]
  },
  {
   "cell_type": "markdown",
   "metadata": {
    "collapsed": true
   },
   "source": [
    "# Librería Pandas: Gestion de datos estructurados (tablas)\n",
    "Pandas es una importante libreria de Python para manipular datos que esten en un formato de tablas (.csv, .txt, .xls). Con Pandas podremos importar datos obtenidos en los formatos mencionados, por ejemplo el portal de datos abiertos de la Ciudad de Buenos Aires. Puntualmente trabajaremos con los datos de Matrimonios del 2018 obtenidos del siguiente enlace https://data.buenosaires.gob.ar/dataset/matrimonios.\n",
    "Una vez que descargues el dataset de matrimonios 2018 guardalo en alguna carpeta de tu computadora y con click derecho \"propiedades\" fijate cual es la ruta de carpetas donde esta alojado el archivo .csv que descargaste."
   ]
  },
  {
   "cell_type": "code",
   "execution_count": null,
   "metadata": {},
   "outputs": [],
   "source": [
    "# importamos la libreria pandas\n",
    "import pandas as pd"
   ]
  },
  {
   "cell_type": "markdown",
   "metadata": {},
   "source": [
    "El comando de pandas \"pd.read_csv\" permite importar archivos .csv alojados en la computadora  a jupyter. El archivo sera importado como una tabla con renglones (rows) y columnas (columns). A las tablas generadas desde Pandas las llamamos \"DataFrame\". Ver que el parametro que solicita el comando \"pd.read_csv()\" es la ruta de la carpeta donde esta alojado el archivo (la ruta incluye el nombre del archivo). Eso quiere decir que una vez que descarguen el archivo, lo guardaran en alguna carpeta que creas conveniente y luego obtendrás la ruta. \n",
    "\n",
    "**Aclaración usuarios windows:** en algunos casos de usuarios con windows, muchas veces se genera un error y es necesario agregar la letra \"r\" antes de la ruta (algo asi como pd.read_csv(r'Ruta donde el CSV esta guardado\\nombre.csv')). Para mas información ver como importar archivos .csv en windows desde este blogpost https://datatofish.com/import-csv-file-python-using-pandas/"
   ]
  },
  {
   "cell_type": "code",
   "execution_count": null,
   "metadata": {},
   "outputs": [],
   "source": [
    "# importamos el archivo \"matrimonios_2018.csv\" y lo guardamos en la variable \"matrimonios\".\n",
    "matrimonios = pd.read_csv('matrimonios_2018.csv', header = 0)"
   ]
  },
  {
   "cell_type": "code",
   "execution_count": null,
   "metadata": {},
   "outputs": [],
   "source": [
    "# averiguamos que tipo de variable es matrimonios: un DataFrame de Pandas.\n",
    "type(matrimonios)"
   ]
  },
  {
   "cell_type": "code",
   "execution_count": null,
   "metadata": {},
   "outputs": [],
   "source": [
    "# Con np.shape() nos fijamos que dimension tiene el archivo (renglones, columnas)\n",
    "np.shape(matrimonios)"
   ]
  },
  {
   "cell_type": "markdown",
   "metadata": {},
   "source": [
    "Al DataFrame \"matrimonios\" podemos solicitarle información como visualizar los primeros renglones agregando al nombre del dataframe el comando \".head()\". Por default aparecen 5 renglones. Observaremos que además del contenido de cada registro de matrimonio, el dataframe se caracteriza por tener un indice (el nombre de cada renglon) y columnas (cada columna tiene un nombre)."
   ]
  },
  {
   "cell_type": "code",
   "execution_count": null,
   "metadata": {},
   "outputs": [],
   "source": [
    "# con .head() visualizamos los primeros 5 renglones del dataframe.\n",
    "matrimonios.head()"
   ]
  },
  {
   "cell_type": "code",
   "execution_count": null,
   "metadata": {},
   "outputs": [],
   "source": [
    "# podemos tambien acceder al listado de columnas \n",
    "matrimonios.columns"
   ]
  },
  {
   "cell_type": "code",
   "execution_count": null,
   "metadata": {},
   "outputs": [],
   "source": [
    "# tambien podemos acceder al vector de indices\n",
    "matrimonios.index"
   ]
  },
  {
   "cell_type": "markdown",
   "metadata": {},
   "source": [
    "el vector de indices es impreso en pantalla como un elemento \"RangeIndex\" con comienzo en 0 y fin en 11732, que equivale a la cantidad de renglones. Python en algunos casos en vez de imprimir literalmente un vector que vaya de 0 a 11732 con incrementos de +1, utiliza el formato \"range\" indicando el inicio, fin y el \"paso\" entre cada registro."
   ]
  },
  {
   "cell_type": "markdown",
   "metadata": {},
   "source": [
    "**Seleccionar columnas especificas del dataframe de Pandas** \n",
    "Supongamos que tenemos interes en la columna \"comunas\". Nombrando \"matrimonios.comuna\" o \"matrimonios['comuna'] seleccionaremos la columna en cuestion. A esa columna seleccionada podemos guardarla en una variable nueva llamada \"comunas\". Luego con la variable \"comunas\" realizaremos una visualización."
   ]
  },
  {
   "cell_type": "code",
   "execution_count": null,
   "metadata": {},
   "outputs": [],
   "source": [
    "# Seleccionamos la columna \"comuna\" y la guardamos en la variable \"comunas\".\n",
    "comunas = matrimonios.comuna"
   ]
  },
  {
   "cell_type": "code",
   "execution_count": null,
   "metadata": {},
   "outputs": [],
   "source": [
    "# observamos que \"comunas\" es tambien un elemento de Pandas. \n",
    "# Sin embargo, solo contiene indices (es algo similar a un vector) y su tipo es \"Series\".\n",
    "type(comunas)"
   ]
  },
  {
   "cell_type": "markdown",
   "metadata": {},
   "source": [
    "Seaborn tambien posee el comando \"countplot\", que cuenta la cantidad de registros con un determinado valor dentro de un dataframe de pandas (mismo en un numpy array). En este caso con \"countplot\" vamos a contar cuantas veces cada columna aparece dentro de \"comunas\"."
   ]
  },
  {
   "cell_type": "code",
   "execution_count": null,
   "metadata": {},
   "outputs": [],
   "source": [
    "# realizamos un countplot de seaborn de la columna \"comunas\".\n",
    "sns.countplot(x='comuna',data=matrimonios)\n",
    "plt.title(\"Cantidad de matrimonios por comuna durante 2018\")\n",
    "plt.show()"
   ]
  },
  {
   "cell_type": "markdown",
   "metadata": {},
   "source": [
    "# Funciones en Python\n",
    "Supongamos que queremos utilizar muchas veces un mismo segmento de codigo. En vez de repetirlo multiples veces, podemos crear funciones de python. Cada vez que necesitamos realizar dicha acción llamamos a la función. Vamos a crear una función para imprimir el valor de una posición dentro de un pandas dataframe."
   ]
  },
  {
   "cell_type": "code",
   "execution_count": null,
   "metadata": {},
   "outputs": [],
   "source": [
    "# Las funciones deben declararse con \"def + nombre de la funcion\" y entre (input)\n",
    "def imprimir_comuna(dato):\n",
    "    return print(\"La comuna es \" + str(dato))"
   ]
  },
  {
   "cell_type": "markdown",
   "metadata": {},
   "source": [
    "Podriamos usar la función definida para situaciones puntuales, por ejemplo para el tercer registro del dataframe \"comunas\". Recordemos que si hablamos del tercer elemento entonces su indice será el 2, ya que en Python los índices comienzan en 0."
   ]
  },
  {
   "cell_type": "code",
   "execution_count": null,
   "metadata": {},
   "outputs": [],
   "source": [
    "imprimir_comuna(comunas[2])"
   ]
  },
  {
   "cell_type": "markdown",
   "metadata": {},
   "source": [
    "# For loops\n",
    "Muchas veces vamos a necesitar iterar sobre una matriz o vector para realizar alguna operación particular. Esto se puede lograr mediante los loops \"for\". El mismo debe definir un elemento iterador que cambiará de valor en cada paso del loop. En el ejemplo el iterador será la variable $i$ y su rango de iteración será desde 0 a 4. El rango va de 0 a 5 indicando el valor de comienzo y el valor final-1 (así es la sintaxis de Python)."
   ]
  },
  {
   "cell_type": "code",
   "execution_count": null,
   "metadata": {},
   "outputs": [],
   "source": [
    "for i in range(0,5):\n",
    "    imprimir_comuna(comunas[i])"
   ]
  },
  {
   "cell_type": "markdown",
   "metadata": {},
   "source": [
    "De esta manera generamos un loop de 5 iteraciones que imprime el valor de la comuna en la posicion $i$ del vector \"comunas\""
   ]
  },
  {
   "cell_type": "markdown",
   "metadata": {},
   "source": [
    "# While loops"
   ]
  },
  {
   "cell_type": "markdown",
   "metadata": {},
   "source": [
    "Similar al los loops \"for\", existen los loops \"while\". Estos continuarán ejecutando indefinidamente las lineas de codigo contenidas en él mientras su condicion sea verdadera.\n",
    "\n",
    "Supongamos ahora que vamos a querer guardar en un *diccionario* una *lista* con las primeras $Q$ comunas tal que $comuna_i \\neq \\alpha$, siendo $Q$ y $\\alpha$ variables que podamos cambiar facilmente.\n",
    "\n",
    "En este caso nuestro indice $i$ sera una variable auxiliar que se deberá ir actualizando para cada registro. La variable $Q$ será la cantidad de elementos que queremos en la lista, y la variable $q$ contará la cantidad de elementos que hayamos agregado a la lista. Vamos a definir todo esto en una funcion."
   ]
  },
  {
   "cell_type": "code",
   "execution_count": null,
   "metadata": {},
   "outputs": [],
   "source": [
    "def diccionario_sin_comuna(alpha,Q):\n",
    "    # alpha: Numero de comuna que NO queremos\n",
    "    # Q: Cantidad de elementos que queremos en la lista\n",
    "\n",
    "    # Inicializamos un contador de indices que vamos a ir evaluando\n",
    "    i = 0\n",
    "    # Un acumulador de datos que ya guardamos.\n",
    "    q = 0\n",
    "    # y definimos una lista vacia\n",
    "    lista_comunas_ok = []\n",
    "    \n",
    "    # Definimos el While loop y su condicion\n",
    "    while q < Q:    \n",
    "        # Evaluamos si la comuna[i] es distinto a 'alpha' (!= --> distinto)\n",
    "        if comunas[i] != alpha:\n",
    "            lista_comunas_ok.append(comunas[i]) #agregamos la comuna a la lista\n",
    "            q = q + 1       # actualizamos el contador q de registros en la lista\n",
    "        # actualizamos el contador i de registros que vamos evaluando\n",
    "        i = i + 1\n",
    "    \n",
    "    # Creamos el diccionario:\n",
    "    diccionario ={\n",
    "        'key1': lista_comunas_ok}\n",
    "\n",
    "    return diccionario"
   ]
  },
  {
   "cell_type": "code",
   "execution_count": null,
   "metadata": {},
   "outputs": [],
   "source": [
    "alpha = 12\n",
    "Q = 5\n",
    "diccionario_sin_comuna(alpha,Q)"
   ]
  },
  {
   "cell_type": "markdown",
   "metadata": {},
   "source": [
    "**Lo lograste!**\n",
    "Si llegaste a este punto quiere decir que pudiste ejecutar:\n",
    "- Abrir un Jupyter notebook exitosamente.\n",
    "- Operaciones básicas en Python como print o suma.\n",
    "- Crear, leer y modificar elementos en Listas y Diccionarios de Python\n",
    "- Utilizar Numpy para crear arrays y realizar operaciones con ellos.\n",
    "- Utilizar Numpy para crear vectores provenientes de distribuciones normales de probabilidad.\n",
    "- Visualización con matplotlib y seaborn para hacer Scatter, Distplot, Countplot.\n",
    "- Importar archivos .csv con Pandas\n",
    "- Filtrar por columnas con Pandas\n",
    "- Crear funciones de Python\n",
    "- Generar for y while loops\n",
    "- Combinar funciones que contengan loops, diccionarios y listas"
   ]
  },
  {
   "cell_type": "markdown",
   "metadata": {},
   "source": [
    "**Como seguir:** Queda mucho por hacer aunque lograr ejecutar este notebook fue un gran logro. Te invitamos a que trates de comprender el paso a paso, amigarte con la sintaxis y modificar algunas variables clave en cada ejercicio para obtener otros resultados. "
   ]
  },
  {
   "cell_type": "code",
   "execution_count": null,
   "metadata": {},
   "outputs": [],
   "source": []
  }
 ],
 "metadata": {
  "kernelspec": {
   "display_name": "Python 3",
   "language": "python",
   "name": "python3"
  },
  "language_info": {
   "codemirror_mode": {
    "name": "ipython",
    "version": 3
   },
   "file_extension": ".py",
   "mimetype": "text/x-python",
   "name": "python",
   "nbconvert_exporter": "python",
   "pygments_lexer": "ipython3",
   "version": "3.7.9"
  }
 },
 "nbformat": 4,
 "nbformat_minor": 2
}
